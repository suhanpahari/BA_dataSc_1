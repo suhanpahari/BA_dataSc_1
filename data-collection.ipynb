{
 "cells": [
  {
   "cell_type": "code",
   "execution_count": 2,
   "id": "9075e5f8-a58b-454c-a340-b5d8da39e659",
   "metadata": {},
   "outputs": [
    {
     "name": "stdout",
     "output_type": "stream",
     "text": [
      "2900\n",
      "2900\n",
      "2929\n",
      "2900\n"
     ]
    }
   ],
   "source": [
    "import pandas as pd\n",
    "import numpy as np\n",
    "import requests\n",
    "from bs4 import BeautifulSoup\n",
    "import re\n",
    "import os \n",
    "\n",
    "reviews = []\n",
    "stars = []\n",
    "date = []\n",
    "country = []\n",
    "\n",
    "for i in range(1, 30):\n",
    "    page = requests.get(f\"https://www.airlinequality.com/airline-reviews/british-airways/page/{i}/?sortby=post_date%3ADesc&pagesize={100}\")\n",
    "    soup = BeautifulSoup(page.content, \"html.parser\")\n",
    "\n",
    "    for item in soup.find_all(\"div\", class_=\"text_content\"):\n",
    "        reviews.append(item.text)\n",
    "\n",
    "    for item in soup.find_all(\"div\", class_=\"rating-10\"):\n",
    "        try:\n",
    "            stars.append(item.span.text)\n",
    "        except Exception as e:\n",
    "            print(f\"ERROR on Page {i}: {e}\")\n",
    "            stars.append(\"none\")\n",
    "\n",
    "    for item in soup.find_all(\"time\"):\n",
    "        date.append(item.text)\n",
    "\n",
    "    for item in soup.find_all(\"h3\", class_=\"text_sub_header userStatusWrapper\"):\n",
    "        country_element = item.find(\"span\", itemprop=\"author\").find(\"span\", itemprop=\"name\")\n",
    "        if country_element is not None:\n",
    "            country_match = re.search(r'\\((.*)\\)', str(item))\n",
    "            if country_match is not None:\n",
    "                country.append(country_match.group(1))\n",
    "            else:\n",
    "                country.append(\"Unknown\")  # If country value not found, add \"Unknown\"\n",
    "        else:\n",
    "            country.append(\"Unknown\")\n",
    "\n",
    "\n",
    "print(len(country))\n",
    "print(len(reviews))\n",
    "print(len(stars))\n",
    "print(len(date))\n",
    "#print(country)"
   ]
  },
  {
   "cell_type": "code",
   "execution_count": null,
   "id": "524f5577-ea78-4c13-aca3-be0445ea92b3",
   "metadata": {},
   "outputs": [],
   "source": []
  },
  {
   "cell_type": "code",
   "execution_count": 7,
   "id": "8f8805a7-d8b3-486d-8f9a-8b5c773f7529",
   "metadata": {},
   "outputs": [],
   "source": [
    "stars = stars[:2900]"
   ]
  },
  {
   "cell_type": "code",
   "execution_count": null,
   "id": "148300dc",
   "metadata": {},
   "outputs": [],
   "source": []
  },
  {
   "cell_type": "code",
   "execution_count": null,
   "id": "011a92fc",
   "metadata": {},
   "outputs": [],
   "source": []
  },
  {
   "cell_type": "code",
   "execution_count": 8,
   "id": "b486d576-725a-4437-9fed-cdb238c23e15",
   "metadata": {},
   "outputs": [
    {
     "data": {
      "text/html": [
       "<div>\n",
       "<style scoped>\n",
       "    .dataframe tbody tr th:only-of-type {\n",
       "        vertical-align: middle;\n",
       "    }\n",
       "\n",
       "    .dataframe tbody tr th {\n",
       "        vertical-align: top;\n",
       "    }\n",
       "\n",
       "    .dataframe thead th {\n",
       "        text-align: right;\n",
       "    }\n",
       "</style>\n",
       "<table border=\"1\" class=\"dataframe\">\n",
       "  <thead>\n",
       "    <tr style=\"text-align: right;\">\n",
       "      <th></th>\n",
       "      <th>reviews</th>\n",
       "      <th>stars</th>\n",
       "      <th>date</th>\n",
       "      <th>country</th>\n",
       "    </tr>\n",
       "  </thead>\n",
       "  <tbody>\n",
       "    <tr>\n",
       "      <th>0</th>\n",
       "      <td>Not Verified | I flew with numerous airlines, ...</td>\n",
       "      <td>\\n\\t\\t\\t\\t\\t\\t\\t\\t\\t\\t\\t\\t\\t5</td>\n",
       "      <td>16th June 2023</td>\n",
       "      <td>Romania</td>\n",
       "    </tr>\n",
       "    <tr>\n",
       "      <th>1</th>\n",
       "      <td>✅ Trip Verified |  We were traveling as a fami...</td>\n",
       "      <td>1</td>\n",
       "      <td>13th June 2023</td>\n",
       "      <td>United States</td>\n",
       "    </tr>\n",
       "    <tr>\n",
       "      <th>2</th>\n",
       "      <td>✅ Trip Verified | Flight at 8.40am from DUB to...</td>\n",
       "      <td>3</td>\n",
       "      <td>12th June 2023</td>\n",
       "      <td>Australia</td>\n",
       "    </tr>\n",
       "    <tr>\n",
       "      <th>3</th>\n",
       "      <td>✅ Trip Verified |  Terrible. I have traveled t...</td>\n",
       "      <td>1</td>\n",
       "      <td>11th June 2023</td>\n",
       "      <td>United Kingdom</td>\n",
       "    </tr>\n",
       "    <tr>\n",
       "      <th>4</th>\n",
       "      <td>✅ Trip Verified |  The customer service is ugl...</td>\n",
       "      <td>1</td>\n",
       "      <td>11th June 2023</td>\n",
       "      <td>United States</td>\n",
       "    </tr>\n",
       "  </tbody>\n",
       "</table>\n",
       "</div>"
      ],
      "text/plain": [
       "                                             reviews  \\\n",
       "0  Not Verified | I flew with numerous airlines, ...   \n",
       "1  ✅ Trip Verified |  We were traveling as a fami...   \n",
       "2  ✅ Trip Verified | Flight at 8.40am from DUB to...   \n",
       "3  ✅ Trip Verified |  Terrible. I have traveled t...   \n",
       "4  ✅ Trip Verified |  The customer service is ugl...   \n",
       "\n",
       "                           stars            date         country  \n",
       "0  \\n\\t\\t\\t\\t\\t\\t\\t\\t\\t\\t\\t\\t\\t5  16th June 2023         Romania  \n",
       "1                              1  13th June 2023   United States  \n",
       "2                              3  12th June 2023       Australia  \n",
       "3                              1  11th June 2023  United Kingdom  \n",
       "4                              1  11th June 2023   United States  "
      ]
     },
     "execution_count": 8,
     "metadata": {},
     "output_type": "execute_result"
    }
   ],
   "source": [
    "df = pd.DataFrame({\"reviews\": reviews,\"stars\": stars, \"date\":date , \"country\":country})\n",
    "df.head()\n",
    "\n"
   ]
  },
  {
   "cell_type": "code",
   "execution_count": null,
   "id": "05c41f69-c2a2-4f83-9b22-1964089fd8ae",
   "metadata": {},
   "outputs": [],
   "source": []
  },
  {
   "cell_type": "code",
   "execution_count": 9,
   "id": "deab946f-f5ba-42f4-bf71-6a290fe0dde5",
   "metadata": {},
   "outputs": [],
   "source": [
    "cwd = os.getcwd()\n",
    "\n",
    "df.to_csv(cwd +\"/BA_data.csv\")"
   ]
  },
  {
   "cell_type": "code",
   "execution_count": null,
   "id": "6c0b79ff-3c48-4a93-80c0-774acc18b407",
   "metadata": {},
   "outputs": [],
   "source": []
  }
 ],
 "metadata": {
  "kernelspec": {
   "display_name": "Python 3 (ipykernel)",
   "language": "python",
   "name": "python3"
  },
  "language_info": {
   "codemirror_mode": {
    "name": "ipython",
    "version": 3
   },
   "file_extension": ".py",
   "mimetype": "text/x-python",
   "name": "python",
   "nbconvert_exporter": "python",
   "pygments_lexer": "ipython3",
   "version": "3.10.9"
  }
 },
 "nbformat": 4,
 "nbformat_minor": 5
}
